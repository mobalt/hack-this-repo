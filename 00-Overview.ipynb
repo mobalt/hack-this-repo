{
 "cells": [
  {
   "cell_type": "markdown",
   "metadata": {},
   "source": [
    "# Overview"
   ]
  },
  {
   "cell_type": "markdown",
   "metadata": {},
   "source": [
    "## BMF\n",
    "\n",
    "### Outputs\n",
    "<dl>\n",
    "<dt>bmf/raw_usa.pkl</dt>\n",
    "<dd>Contains the bmf data for all USA regions.</dd>\n",
    "\n",
    "<dt>bmf/raw_activities.pkl</dt>\n",
    "<dd>Contains the activities data for BMF of all USA.</dd>\n",
    "\n",
    "<dt>bmf/usa.pkl</dt>\n",
    "<dd>Contains the bmf data for all USA, filtered by Activity/NTEE codes.</dd>\n",
    "\n",
    "<dt>bmf/missouri_bmf.pkl</dt>\n",
    "<dd>Contains only missouri-based bmf data, filtered by Activity/NTEE codes.</dd>\n",
    "\n",
    "</dl>"
   ]
  },
  {
   "cell_type": "markdown",
   "metadata": {},
   "source": [
    "## 990F\n",
    "### Inputs\n",
    "<dl>\n",
    "<dt>bmf/missouri_bmf.pkl</dt>\n",
    "<dd>Contains only missouri-based bmf data, filtered by Activity/NTEE codes.</dd>\n",
    "\n",
    "</dl>\n",
    "\n",
    "### Outputs\n",
    "<dl>\n",
    "<dt>f990/index.pkl</dt>\n",
    "<dd>Contains the index for the 990 forms for all USA.</dd>\n",
    "\n",
    "<dt>f990/intersected_index.pkl</dt>\n",
    "<dd>Contains the index for F990 forms for missouri nonprofits.</dd>\n",
    "\n",
    "</dl>"
   ]
  },
  {
   "cell_type": "markdown",
   "metadata": {},
   "source": [
    "TODO: Figure out how to word the manual process of extracting all related XML files and savign them as json"
   ]
  },
  {
   "cell_type": "code",
   "execution_count": null,
   "metadata": {},
   "outputs": [],
   "source": []
  },
  {
   "cell_type": "code",
   "execution_count": null,
   "metadata": {},
   "outputs": [],
   "source": []
  },
  {
   "cell_type": "code",
   "execution_count": null,
   "metadata": {},
   "outputs": [],
   "source": []
  },
  {
   "cell_type": "code",
   "execution_count": null,
   "metadata": {},
   "outputs": [],
   "source": []
  },
  {
   "cell_type": "code",
   "execution_count": null,
   "metadata": {},
   "outputs": [],
   "source": []
  }
 ],
 "metadata": {
  "kernelspec": {
   "display_name": "Python 3",
   "language": "python",
   "name": "python3"
  },
  "language_info": {
   "codemirror_mode": {
    "name": "ipython",
    "version": 3
   },
   "file_extension": ".py",
   "mimetype": "text/x-python",
   "name": "python",
   "nbconvert_exporter": "python",
   "pygments_lexer": "ipython3",
   "version": "3.7.4"
  }
 },
 "nbformat": 4,
 "nbformat_minor": 2
}
