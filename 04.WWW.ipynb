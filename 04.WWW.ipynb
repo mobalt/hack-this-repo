{
 "cells": [
  {
   "cell_type": "code",
   "execution_count": 29,
   "metadata": {},
   "outputs": [],
   "source": [
    "import pandas as pd\n",
    "import yaml\n",
    "import os\n",
    "import json\n",
    "import pickle\n",
    "from glom import glom"
   ]
  },
  {
   "cell_type": "code",
   "execution_count": null,
   "metadata": {},
   "outputs": [],
   "source": []
  },
  {
   "cell_type": "code",
   "execution_count": 3,
   "metadata": {
    "collapsed": true
   },
   "outputs": [
    {
     "name": "stderr",
     "output_type": "stream",
     "text": [
      "/usr/lib/python3.7/site-packages/ipykernel_launcher.py:2: YAMLLoadWarning: calling yaml.load() without Loader=... is deprecated, as the default Loader is unsafe. Please read https://msg.pyyaml.org/load for full details.\n",
      "  \n"
     ]
    },
    {
     "data": {
      "text/plain": [
       "{'ein': ['Return.ReturnHeader.Filer.EIN'],\n",
       " 'name': ['Return.ReturnHeader.Filer.Name.BusinessNameLine1',\n",
       "  'Return.ReturnHeader.Filer.Name.BusinessNameLine2',\n",
       "  'Return.ReturnHeader.Filer.Name.BusinessNameLine1Txt',\n",
       "  'Return.ReturnHeader.Filer.Name.BusinessNameLine2Txt',\n",
       "  'Return.ReturnHeader.Filer.BusinessName.BusinessNameLine1',\n",
       "  'Return.ReturnHeader.Filer.BusinessName.BusinessNameLine2',\n",
       "  'Return.ReturnHeader.Filer.BusinessName.BusinessNameLine1Txt',\n",
       "  'Return.ReturnHeader.Filer.BusinessName.BusinessNameLine2Txt',\n",
       "  'Return.ReturnData.IRS990.DoingBusinessAsName.BusinessNameLine1',\n",
       "  'Return.ReturnData.IRS990.DoingBusinessAsName.BusinessNameLine2',\n",
       "  'Return.ReturnData.IRS990.DoingBusinessAsName.BusinessNameLine1Txt',\n",
       "  'Return.ReturnData.IRS990.DoingBusinessAsName.BusinessNameLine2Txt'],\n",
       " 'phone': ['Return.ReturnHeader.Filer.PhoneNum'],\n",
       " 'addr1': ['Return.ReturnHeader.Filer.USAddress.AddressLine1',\n",
       "  'Return.ReturnHeader.Filer.USAddress.AddressLine1Txt',\n",
       "  'Return.ReturnData.IRS990.USAddress.AddressLine1Txt',\n",
       "  'Return.ReturnData.IRS990.USAddress.AddressLine2Txt'],\n",
       " 'city': ['Return.ReturnHeader.Filer.USAddress.CityNm',\n",
       "  'Return.ReturnData.IRS990.USAddress.CityNm'],\n",
       " 'state': ['Return.ReturnHeader.Filer.USAddress.StateAbbreviationCd',\n",
       "  'Return.ReturnData.IRS990.USAddress.StateAbbreviationCd'],\n",
       " 'zip': ['Return.ReturnData.IRS990.USAddress.ZIPCd',\n",
       "  'Return.ReturnHeader.Filer.USAddress.ZIPCd'],\n",
       " 'description': ['Return.ReturnData.IRS990.ActivityOrMissionDescription',\n",
       "  'Return.ReturnData.IRS990.ActivityOrMissionDesc',\n",
       "  'Return.ReturnData.IRS990.MissionDescription',\n",
       "  'Return.ReturnData.IRS990.MissionDesc',\n",
       "  'Return.ReturnData.IRS990.Description',\n",
       "  'Return.ReturnData.IRS990.Desc',\n",
       "  'Return.ReturnData.IRS990.ActivityOther.Description',\n",
       "  'Return.ReturnData.IRS990.Activity2.Description',\n",
       "  'Return.ReturnData.IRS990.Activity3.Description'],\n",
       " 'website': ['Return.ReturnData.IRS990.WebsiteAddressTxt',\n",
       "  'Return.ReturnData.IRS990.OwnWebsiteInd',\n",
       "  'Return.ReturnData.IRS990.WebSite',\n",
       "  'Return.ReturnData.IRS990EZ.WebSite',\n",
       "  'Return.ReturnData.IRS990.OwnWebsite',\n",
       "  'Return.ReturnData.IRS990.OtherWebsite',\n",
       "  'Return.ReturnData.IRS990.OtherWebsiteInd',\n",
       "  'Return.ReturnData.IRS990.WebsiteAddressTxt',\n",
       "  'Return.ReturnData.IRS990EZ.WebsiteAddressTxt',\n",
       "  'Return.ReturnData.IRS990PF.StatementsRegardingActivities.WebsiteAddress',\n",
       "  'Return.ReturnData.IRS990PF.StatementsRegardingActyGrp.WebsiteAddressTxt']}"
      ]
     },
     "execution_count": 3,
     "metadata": {},
     "output_type": "execute_result"
    }
   ],
   "source": [
    "with open('./fields.yml', 'r') as fd:\n",
    "    fields = yaml.load(fd)\n",
    "\n",
    "fields"
   ]
  },
  {
   "cell_type": "code",
   "execution_count": 31,
   "metadata": {},
   "outputs": [],
   "source": [
    "def getResult (z):\n",
    "    result = {}\n",
    "    for new_name, targets in fields.items():\n",
    "        values = []\n",
    "        for path in targets:\n",
    "            try:\n",
    "                values.append(\n",
    "                    glom(z, path)\n",
    "                )\n",
    "    #             break\n",
    "            except:\n",
    "                continue\n",
    "        result[new_name] = values\n",
    "    return result\n",
    "\n",
    "#     result[field] = row\n",
    "\n",
    "def get_obj(fn):\n",
    "    with open('/home2/m/good/data/us990_json/%s'%fn, 'r') as fd:\n",
    "        return getResult(json.loads(fd.read()))"
   ]
  },
  {
   "cell_type": "code",
   "execution_count": null,
   "metadata": {},
   "outputs": [],
   "source": []
  },
  {
   "cell_type": "code",
   "execution_count": 11,
   "metadata": {},
   "outputs": [],
   "source": [
    "folder = '../good/data/us990_json/'"
   ]
  },
  {
   "cell_type": "code",
   "execution_count": null,
   "metadata": {},
   "outputs": [],
   "source": []
  },
  {
   "cell_type": "code",
   "execution_count": 34,
   "metadata": {},
   "outputs": [],
   "source": [
    "acc_USA = []\n",
    "for fn in os.listdir(folder):\n",
    "    try:\n",
    "        with open(folder + fn, 'r') as fd:\n",
    "#             print(folder+fn)\n",
    "            j = json.loads(fd.read())\n",
    "            x = getResult(j)\n",
    "            acc_USA.append(x)        \n",
    "# print(x,acc_USA)\n",
    "    except:\n",
    "        continue\n",
    "# len(acc_USA)"
   ]
  },
  {
   "cell_type": "code",
   "execution_count": 35,
   "metadata": {},
   "outputs": [
    {
     "data": {
      "text/plain": [
       "1009759"
      ]
     },
     "execution_count": 35,
     "metadata": {},
     "output_type": "execute_result"
    }
   ],
   "source": [
    "len(acc_USA)"
   ]
  },
  {
   "cell_type": "code",
   "execution_count": 36,
   "metadata": {},
   "outputs": [
    {
     "data": {
      "text/plain": [
       "[{'ein': ['460274380'],\n",
       "  'name': ['WINNER REGIONAL HEALTHCARE CENTER'],\n",
       "  'phone': ['6058427100'],\n",
       "  'addr1': ['745 E 8TH ST', '745 E 8TH ST'],\n",
       "  'city': ['WINNER', 'WINNER'],\n",
       "  'state': ['SD', 'SD'],\n",
       "  'zip': ['57580', '57580'],\n",
       "  'description': ['TO IMPROVE THE QUALITY OF LIFE IN OUR REGION.',\n",
       "   'TO IMPROVE THE QUALITY OF LIFE IN OUR REGION BY PROVIDING COMPREHENSIVE HEALTHCARE IN A LOCAL, NURTURING ENVIRONMENT. THROUGH PROFESSIONALS WHO CONSIDER HEALTHCARE A CALLING, WE WILL EXCEED THE EXPECTATIONS OF THOSE WE SERVE. OUR ROLE AS A COMMITTED STEWARD TO OUR REGION WILL BE SUSTAINED THROUGH FISCAL RESPONSIBILITY, ENSURING PERSONALIZED HEALTHCARE FOR GENERATIONS TO COME.',\n",
       "   'WINNER REGIONAL HEALTHCARE CENTER, A 25-BED CRITICAL ACCESS HOSPITAL AND 80 BED LONG TERM CARE CENTER, PROMOTES HEALTH OF THE COMMUNITY BY PROVIDING A VARIETY OF HEALTH CARE SERVICES INCLUDING ACUTE PATIENT TREATMENT, SWING BED, LONG-TERM CARE, AND NEW BORN CARE. THE FACILITY ALSO OPERATES A HOME HEALTH AGENCY, HOMEMAKER PROGRAM, A PROVIDER BASED RURAL HEALTH CLINIC, A COMMUNITY HEALTH PROGRAM AND PROVIDES COMMUNITY EDUCATION PROGRAMS THROUGHOUT THE SERVICE AREA. WINNER REGIONAL HEALTHCARE CENTER HAD 1,724 ACUTE PATIENT DAYS; 1,142 SWING BED PATIENT DAYS; 316 NEWBORN PATIENT DAYS; 175 BIRTHS; 26,780 RESIDENT DAYS; 2,283 HOME HEALTH VISITS; 20,181 RURAL HEALTH CLINIC VISITS; 413 OBSERVATION DAYS; AND 40 LABOR AND DELIVERY DAYS.'],\n",
       "  'website': ['WWW.WINNERREGIONAL.ORG', 'WWW.WINNERREGIONAL.ORG']},\n",
       " {'ein': ['134078241'],\n",
       "  'name': ['THE DOBBINS FOUNDATION', 'CO MICHELE DODGE DIRECTOR'],\n",
       "  'phone': ['4132385372'],\n",
       "  'addr1': ['311 RIVER ROAD'],\n",
       "  'city': ['WORTHINGTON'],\n",
       "  'state': ['MA'],\n",
       "  'zip': ['01098'],\n",
       "  'description': [],\n",
       "  'website': ['N/A']},\n",
       " {'ein': ['263803825'],\n",
       "  'name': ['NEW YORK STATE SOCIETY OF PLASTIC SURGEONS INC'],\n",
       "  'phone': ['5185987755'],\n",
       "  'addr1': ['PO BOX 3728'],\n",
       "  'city': ['ALBANY'],\n",
       "  'state': ['NY'],\n",
       "  'zip': ['12203'],\n",
       "  'description': [],\n",
       "  'website': []}]"
      ]
     },
     "execution_count": 36,
     "metadata": {},
     "output_type": "execute_result"
    }
   ],
   "source": [
    "acc_USA[0:3]"
   ]
  },
  {
   "cell_type": "code",
   "execution_count": 33,
   "metadata": {},
   "outputs": [
    {
     "data": {
      "text/plain": [
       "[{'ein': ['460274380'],\n",
       "  'name': ['WINNER REGIONAL HEALTHCARE CENTER'],\n",
       "  'phone': ['6058427100'],\n",
       "  'addr1': ['745 E 8TH ST', '745 E 8TH ST'],\n",
       "  'city': ['WINNER', 'WINNER'],\n",
       "  'state': ['SD', 'SD'],\n",
       "  'zip': ['57580', '57580'],\n",
       "  'description': ['TO IMPROVE THE QUALITY OF LIFE IN OUR REGION.',\n",
       "   'TO IMPROVE THE QUALITY OF LIFE IN OUR REGION BY PROVIDING COMPREHENSIVE HEALTHCARE IN A LOCAL, NURTURING ENVIRONMENT. THROUGH PROFESSIONALS WHO CONSIDER HEALTHCARE A CALLING, WE WILL EXCEED THE EXPECTATIONS OF THOSE WE SERVE. OUR ROLE AS A COMMITTED STEWARD TO OUR REGION WILL BE SUSTAINED THROUGH FISCAL RESPONSIBILITY, ENSURING PERSONALIZED HEALTHCARE FOR GENERATIONS TO COME.',\n",
       "   'WINNER REGIONAL HEALTHCARE CENTER, A 25-BED CRITICAL ACCESS HOSPITAL AND 80 BED LONG TERM CARE CENTER, PROMOTES HEALTH OF THE COMMUNITY BY PROVIDING A VARIETY OF HEALTH CARE SERVICES INCLUDING ACUTE PATIENT TREATMENT, SWING BED, LONG-TERM CARE, AND NEW BORN CARE. THE FACILITY ALSO OPERATES A HOME HEALTH AGENCY, HOMEMAKER PROGRAM, A PROVIDER BASED RURAL HEALTH CLINIC, A COMMUNITY HEALTH PROGRAM AND PROVIDES COMMUNITY EDUCATION PROGRAMS THROUGHOUT THE SERVICE AREA. WINNER REGIONAL HEALTHCARE CENTER HAD 1,724 ACUTE PATIENT DAYS; 1,142 SWING BED PATIENT DAYS; 316 NEWBORN PATIENT DAYS; 175 BIRTHS; 26,780 RESIDENT DAYS; 2,283 HOME HEALTH VISITS; 20,181 RURAL HEALTH CLINIC VISITS; 413 OBSERVATION DAYS; AND 40 LABOR AND DELIVERY DAYS.'],\n",
       "  'website': ['WWW.WINNERREGIONAL.ORG', 'WWW.WINNERREGIONAL.ORG']}]"
      ]
     },
     "execution_count": 33,
     "metadata": {},
     "output_type": "execute_result"
    }
   ],
   "source": [
    "acc_USA"
   ]
  },
  {
   "cell_type": "code",
   "execution_count": 37,
   "metadata": {},
   "outputs": [],
   "source": [
    "with open('packaged.pkl','wb') as fd:\n",
    "    pickle.dump(acc_USA, fd)"
   ]
  },
  {
   "cell_type": "code",
   "execution_count": 38,
   "metadata": {},
   "outputs": [],
   "source": [
    "with open('packaged.json','w') as fd:\n",
    "    json.dump(acc_USA, fd)"
   ]
  },
  {
   "cell_type": "code",
   "execution_count": 39,
   "metadata": {},
   "outputs": [],
   "source": [
    "www = set()"
   ]
  },
  {
   "cell_type": "code",
   "execution_count": 41,
   "metadata": {},
   "outputs": [],
   "source": [
    "www.add((4,4,4))"
   ]
  },
  {
   "cell_type": "code",
   "execution_count": 44,
   "metadata": {},
   "outputs": [],
   "source": [
    "www.update((4,4,2))"
   ]
  },
  {
   "cell_type": "code",
   "execution_count": 45,
   "metadata": {},
   "outputs": [
    {
     "data": {
      "text/plain": [
       "{(4, 4, 4), 2, 4}"
      ]
     },
     "execution_count": 45,
     "metadata": {},
     "output_type": "execute_result"
    }
   ],
   "source": [
    "www"
   ]
  },
  {
   "cell_type": "code",
   "execution_count": 46,
   "metadata": {},
   "outputs": [],
   "source": [
    "www = set()\n",
    "\n",
    "for n in acc_USA:\n",
    "    www.update(n['website'])"
   ]
  },
  {
   "cell_type": "code",
   "execution_count": 50,
   "metadata": {},
   "outputs": [
    {
     "name": "stdout",
     "output_type": "stream",
     "text": [
      "CrystalLakeRowing.org\n"
     ]
    }
   ],
   "source": [
    "for w in www:\n",
    "    print(w)\n",
    "    break"
   ]
  },
  {
   "cell_type": "code",
   "execution_count": 49,
   "metadata": {},
   "outputs": [
    {
     "data": {
      "text/plain": [
       "267098"
      ]
     },
     "execution_count": 49,
     "metadata": {},
     "output_type": "execute_result"
    }
   ],
   "source": [
    "len(www)"
   ]
  },
  {
   "cell_type": "code",
   "execution_count": null,
   "metadata": {},
   "outputs": [],
   "source": []
  },
  {
   "cell_type": "code",
   "execution_count": 22,
   "metadata": {},
   "outputs": [
    {
     "data": {
      "text/plain": [
       "[{'ein': [],\n",
       "  'name': [],\n",
       "  'phone': [],\n",
       "  'addr1': [],\n",
       "  'city': [],\n",
       "  'state': [],\n",
       "  'zip': [],\n",
       "  'description': [],\n",
       "  'website': []},\n",
       " {'ein': [],\n",
       "  'name': [],\n",
       "  'phone': [],\n",
       "  'addr1': [],\n",
       "  'city': [],\n",
       "  'state': [],\n",
       "  'zip': [],\n",
       "  'description': [],\n",
       "  'website': []},\n",
       " {'ein': [],\n",
       "  'name': [],\n",
       "  'phone': [],\n",
       "  'addr1': [],\n",
       "  'city': [],\n",
       "  'state': [],\n",
       "  'zip': [],\n",
       "  'description': [],\n",
       "  'website': []},\n",
       " {'ein': [],\n",
       "  'name': [],\n",
       "  'phone': [],\n",
       "  'addr1': [],\n",
       "  'city': [],\n",
       "  'state': [],\n",
       "  'zip': [],\n",
       "  'description': [],\n",
       "  'website': []},\n",
       " {'ein': [],\n",
       "  'name': [],\n",
       "  'phone': [],\n",
       "  'addr1': [],\n",
       "  'city': [],\n",
       "  'state': [],\n",
       "  'zip': [],\n",
       "  'description': [],\n",
       "  'website': []},\n",
       " {'ein': [],\n",
       "  'name': [],\n",
       "  'phone': [],\n",
       "  'addr1': [],\n",
       "  'city': [],\n",
       "  'state': [],\n",
       "  'zip': [],\n",
       "  'description': [],\n",
       "  'website': []},\n",
       " {'ein': [],\n",
       "  'name': [],\n",
       "  'phone': [],\n",
       "  'addr1': [],\n",
       "  'city': [],\n",
       "  'state': [],\n",
       "  'zip': [],\n",
       "  'description': [],\n",
       "  'website': []},\n",
       " {'ein': [],\n",
       "  'name': [],\n",
       "  'phone': [],\n",
       "  'addr1': [],\n",
       "  'city': [],\n",
       "  'state': [],\n",
       "  'zip': [],\n",
       "  'description': [],\n",
       "  'website': []},\n",
       " {'ein': [],\n",
       "  'name': [],\n",
       "  'phone': [],\n",
       "  'addr1': [],\n",
       "  'city': [],\n",
       "  'state': [],\n",
       "  'zip': [],\n",
       "  'description': [],\n",
       "  'website': []},\n",
       " {'ein': [],\n",
       "  'name': [],\n",
       "  'phone': [],\n",
       "  'addr1': [],\n",
       "  'city': [],\n",
       "  'state': [],\n",
       "  'zip': [],\n",
       "  'description': [],\n",
       "  'website': []},\n",
       " {'ein': [],\n",
       "  'name': [],\n",
       "  'phone': [],\n",
       "  'addr1': [],\n",
       "  'city': [],\n",
       "  'state': [],\n",
       "  'zip': [],\n",
       "  'description': [],\n",
       "  'website': []},\n",
       " {'ein': [],\n",
       "  'name': [],\n",
       "  'phone': [],\n",
       "  'addr1': [],\n",
       "  'city': [],\n",
       "  'state': [],\n",
       "  'zip': [],\n",
       "  'description': [],\n",
       "  'website': []},\n",
       " {'ein': [],\n",
       "  'name': [],\n",
       "  'phone': [],\n",
       "  'addr1': [],\n",
       "  'city': [],\n",
       "  'state': [],\n",
       "  'zip': [],\n",
       "  'description': [],\n",
       "  'website': []},\n",
       " {'ein': [],\n",
       "  'name': [],\n",
       "  'phone': [],\n",
       "  'addr1': [],\n",
       "  'city': [],\n",
       "  'state': [],\n",
       "  'zip': [],\n",
       "  'description': [],\n",
       "  'website': []},\n",
       " {'ein': [],\n",
       "  'name': [],\n",
       "  'phone': [],\n",
       "  'addr1': [],\n",
       "  'city': [],\n",
       "  'state': [],\n",
       "  'zip': [],\n",
       "  'description': [],\n",
       "  'website': []},\n",
       " {'ein': [],\n",
       "  'name': [],\n",
       "  'phone': [],\n",
       "  'addr1': [],\n",
       "  'city': [],\n",
       "  'state': [],\n",
       "  'zip': [],\n",
       "  'description': [],\n",
       "  'website': []},\n",
       " {'ein': [],\n",
       "  'name': [],\n",
       "  'phone': [],\n",
       "  'addr1': [],\n",
       "  'city': [],\n",
       "  'state': [],\n",
       "  'zip': [],\n",
       "  'description': [],\n",
       "  'website': []},\n",
       " {'ein': [],\n",
       "  'name': [],\n",
       "  'phone': [],\n",
       "  'addr1': [],\n",
       "  'city': [],\n",
       "  'state': [],\n",
       "  'zip': [],\n",
       "  'description': [],\n",
       "  'website': []},\n",
       " {'ein': [],\n",
       "  'name': [],\n",
       "  'phone': [],\n",
       "  'addr1': [],\n",
       "  'city': [],\n",
       "  'state': [],\n",
       "  'zip': [],\n",
       "  'description': [],\n",
       "  'website': []},\n",
       " {'ein': [],\n",
       "  'name': [],\n",
       "  'phone': [],\n",
       "  'addr1': [],\n",
       "  'city': [],\n",
       "  'state': [],\n",
       "  'zip': [],\n",
       "  'description': [],\n",
       "  'website': []},\n",
       " {'ein': [],\n",
       "  'name': [],\n",
       "  'phone': [],\n",
       "  'addr1': [],\n",
       "  'city': [],\n",
       "  'state': [],\n",
       "  'zip': [],\n",
       "  'description': [],\n",
       "  'website': []},\n",
       " {'ein': [],\n",
       "  'name': [],\n",
       "  'phone': [],\n",
       "  'addr1': [],\n",
       "  'city': [],\n",
       "  'state': [],\n",
       "  'zip': [],\n",
       "  'description': [],\n",
       "  'website': []},\n",
       " {'ein': [],\n",
       "  'name': [],\n",
       "  'phone': [],\n",
       "  'addr1': [],\n",
       "  'city': [],\n",
       "  'state': [],\n",
       "  'zip': [],\n",
       "  'description': [],\n",
       "  'website': []},\n",
       " {'ein': [],\n",
       "  'name': [],\n",
       "  'phone': [],\n",
       "  'addr1': [],\n",
       "  'city': [],\n",
       "  'state': [],\n",
       "  'zip': [],\n",
       "  'description': [],\n",
       "  'website': []},\n",
       " {'ein': [],\n",
       "  'name': [],\n",
       "  'phone': [],\n",
       "  'addr1': [],\n",
       "  'city': [],\n",
       "  'state': [],\n",
       "  'zip': [],\n",
       "  'description': [],\n",
       "  'website': []},\n",
       " {'ein': [],\n",
       "  'name': [],\n",
       "  'phone': [],\n",
       "  'addr1': [],\n",
       "  'city': [],\n",
       "  'state': [],\n",
       "  'zip': [],\n",
       "  'description': [],\n",
       "  'website': []},\n",
       " {'ein': [],\n",
       "  'name': [],\n",
       "  'phone': [],\n",
       "  'addr1': [],\n",
       "  'city': [],\n",
       "  'state': [],\n",
       "  'zip': [],\n",
       "  'description': [],\n",
       "  'website': []}]"
      ]
     },
     "execution_count": 22,
     "metadata": {},
     "output_type": "execute_result"
    }
   ],
   "source": [
    "acc_USA[3:30]"
   ]
  },
  {
   "cell_type": "code",
   "execution_count": null,
   "metadata": {},
   "outputs": [],
   "source": [
    "pd.read_pickle('./us990/index/')"
   ]
  }
 ],
 "metadata": {
  "kernelspec": {
   "display_name": "Python 3",
   "language": "python",
   "name": "python3"
  },
  "language_info": {
   "codemirror_mode": {
    "name": "ipython",
    "version": 3
   },
   "file_extension": ".py",
   "mimetype": "text/x-python",
   "name": "python",
   "nbconvert_exporter": "python",
   "pygments_lexer": "ipython3",
   "version": "3.7.4"
  }
 },
 "nbformat": 4,
 "nbformat_minor": 2
}
