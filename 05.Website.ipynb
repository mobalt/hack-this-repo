{
 "cells": [
  {
   "cell_type": "code",
   "execution_count": 1,
   "metadata": {},
   "outputs": [
    {
     "name": "stdout",
     "output_type": "stream",
     "text": [
      "Requirement already satisfied: robobrowser in /home/m/.local/lib/python3.7/site-packages (0.5.3)\n",
      "Requirement already satisfied: beautifulsoup4>=4.3.2 in /usr/lib/python3.7/site-packages (from robobrowser) (4.8.0)\n",
      "Requirement already satisfied: requests>=2.6.0 in /usr/lib/python3.7/site-packages (from robobrowser) (2.22.0)\n",
      "Requirement already satisfied: six>=1.9.0 in /usr/lib/python3.7/site-packages (from robobrowser) (1.12.0)\n",
      "Requirement already satisfied: Werkzeug>=0.10.4 in /home/m/.local/lib/python3.7/site-packages (from robobrowser) (0.16.0)\n",
      "Requirement already satisfied: soupsieve>=1.2 in /usr/lib/python3.7/site-packages (from beautifulsoup4>=4.3.2->robobrowser) (1.9.4)\n",
      "Requirement already satisfied: chardet>=3.0.2 in /usr/lib/python3.7/site-packages (from requests>=2.6.0->robobrowser) (3.0.4)\n",
      "Requirement already satisfied: idna>=2.5 in /usr/lib/python3.7/site-packages (from requests>=2.6.0->robobrowser) (2.8)\n",
      "Requirement already satisfied: urllib3>=1.21.1 in /usr/lib/python3.7/site-packages (from requests>=2.6.0->robobrowser) (1.25.3)\n"
     ]
    }
   ],
   "source": [
    "!pip3 install robobrowser --user"
   ]
  },
  {
   "cell_type": "code",
   "execution_count": 2,
   "metadata": {},
   "outputs": [],
   "source": [
    "import robobrowser\n",
    "import json\n",
    "import yaml\n",
    "import os\n",
    "import re\n",
    "import pandas as pd\n",
    "import numpy as np\n",
    "import pickle"
   ]
  },
  {
   "cell_type": "code",
   "execution_count": 3,
   "metadata": {},
   "outputs": [
    {
     "data": {
      "text/plain": [
       "1009759"
      ]
     },
     "execution_count": 3,
     "metadata": {},
     "output_type": "execute_result"
    }
   ],
   "source": [
    "with open('packaged.pkl', 'rb') as fd:\n",
    "    acc = pickle.load(fd)\n",
    "len(acc)"
   ]
  },
  {
   "cell_type": "code",
   "execution_count": 5,
   "metadata": {},
   "outputs": [
    {
     "name": "stdout",
     "output_type": "stream",
     "text": [
      "(267098, 1)\n"
     ]
    },
    {
     "data": {
      "text/html": [
       "<div>\n",
       "<style scoped>\n",
       "    .dataframe tbody tr th:only-of-type {\n",
       "        vertical-align: middle;\n",
       "    }\n",
       "\n",
       "    .dataframe tbody tr th {\n",
       "        vertical-align: top;\n",
       "    }\n",
       "\n",
       "    .dataframe thead th {\n",
       "        text-align: right;\n",
       "    }\n",
       "</style>\n",
       "<table border=\"1\" class=\"dataframe\">\n",
       "  <thead>\n",
       "    <tr style=\"text-align: right;\">\n",
       "      <th></th>\n",
       "      <th>0</th>\n",
       "    </tr>\n",
       "  </thead>\n",
       "  <tbody>\n",
       "    <tr>\n",
       "      <td>0</td>\n",
       "      <td>WWW.BLACKBURN.EDU</td>\n",
       "    </tr>\n",
       "    <tr>\n",
       "      <td>1</td>\n",
       "      <td>WWW.NGONGROAD.ORG</td>\n",
       "    </tr>\n",
       "  </tbody>\n",
       "</table>\n",
       "</div>"
      ],
      "text/plain": [
       "                   0\n",
       "0  WWW.BLACKBURN.EDU\n",
       "1  WWW.NGONGROAD.ORG"
      ]
     },
     "execution_count": 5,
     "metadata": {},
     "output_type": "execute_result"
    }
   ],
   "source": [
    "websites = set()\n",
    "for x in acc:\n",
    "    if 'website' in x:\n",
    "        websites.update(x.get('website'))\n",
    "websites = list(websites)\n",
    "\n",
    "www = pd.DataFrame(websites)\n",
    "www.to_csv('websites.csv', header=False, index=False)\n",
    "print(www.shape)\n",
    "www.head(2)"
   ]
  },
  {
   "cell_type": "code",
   "execution_count": 6,
   "metadata": {},
   "outputs": [],
   "source": [
    "patternRx = re.compile(r'(?:https?://)?(?:www\\.)?([a-z0-9\\.\\-\\_]+\\.(?:com|org|net|us|info))(?:\\/(\\S+)?)?', re.IGNORECASE)"
   ]
  },
  {
   "cell_type": "code",
   "execution_count": 9,
   "metadata": {},
   "outputs": [],
   "source": [
    "from robobrowser import RoboBrowser"
   ]
  },
  {
   "cell_type": "code",
   "execution_count": 10,
   "metadata": {},
   "outputs": [],
   "source": [
    "b = RoboBrowser()"
   ]
  },
  {
   "cell_type": "code",
   "execution_count": 19,
   "metadata": {},
   "outputs": [],
   "source": [
    "domain, folder = patternRx.search(website).groups()"
   ]
  },
  {
   "cell_type": "code",
   "execution_count": 20,
   "metadata": {},
   "outputs": [
    {
     "data": {
      "text/plain": [
       "'BOWLBVBA.COM'"
      ]
     },
     "execution_count": 20,
     "metadata": {},
     "output_type": "execute_result"
    }
   ],
   "source": [
    "domain"
   ]
  },
  {
   "cell_type": "code",
   "execution_count": null,
   "metadata": {},
   "outputs": [],
   "source": [
    "redirected = {}\n",
    "for website in websites:\n",
    "    result = patternRx.search(website)\n",
    "    if result:\n",
    "        domain, folder = result.groups()\n",
    "        uri = 'http://' + domain\n",
    "        if folder:\n",
    "            uri += '/' + folder\n",
    "        try:\n",
    "            b.open(uri)\n",
    "            redirected[website] = b.url\n",
    "        except:\n",
    "            redirected[website] = None\n",
    "#         break\n",
    "    else:\n",
    "        redirected[website] = None\n",
    "print(len(redirected))\n",
    "# redirected"
   ]
  },
  {
   "cell_type": "code",
   "execution_count": null,
   "metadata": {},
   "outputs": [],
   "source": [
    "print('complete!')"
   ]
  },
  {
   "cell_type": "code",
   "execution_count": null,
   "metadata": {},
   "outputs": [],
   "source": []
  },
  {
   "cell_type": "code",
   "execution_count": 7,
   "metadata": {},
   "outputs": [],
   "source": [
    "simple = []\n",
    "\n",
    "for x in acc:\n",
    "    z = {}\n",
    "    simple.append(z)\n",
    "    for k, v in x.items():\n",
    "        if len(v) == 1:\n",
    "            z[k] = v[0]\n",
    "            "
   ]
  },
  {
   "cell_type": "code",
   "execution_count": 8,
   "metadata": {},
   "outputs": [
    {
     "data": {
      "text/plain": [
       "1009759"
      ]
     },
     "execution_count": 8,
     "metadata": {},
     "output_type": "execute_result"
    }
   ],
   "source": [
    "len(simple)"
   ]
  },
  {
   "cell_type": "code",
   "execution_count": 9,
   "metadata": {},
   "outputs": [
    {
     "name": "stdout",
     "output_type": "stream",
     "text": [
      "(1009759, 8)\n"
     ]
    },
    {
     "data": {
      "text/html": [
       "<div>\n",
       "<style scoped>\n",
       "    .dataframe tbody tr th:only-of-type {\n",
       "        vertical-align: middle;\n",
       "    }\n",
       "\n",
       "    .dataframe tbody tr th {\n",
       "        vertical-align: top;\n",
       "    }\n",
       "\n",
       "    .dataframe thead th {\n",
       "        text-align: right;\n",
       "    }\n",
       "</style>\n",
       "<table border=\"1\" class=\"dataframe\">\n",
       "  <thead>\n",
       "    <tr style=\"text-align: right;\">\n",
       "      <th></th>\n",
       "      <th>ein</th>\n",
       "      <th>name</th>\n",
       "      <th>phone</th>\n",
       "      <th>addr1</th>\n",
       "      <th>city</th>\n",
       "      <th>state</th>\n",
       "      <th>zip</th>\n",
       "      <th>website</th>\n",
       "    </tr>\n",
       "  </thead>\n",
       "  <tbody>\n",
       "    <tr>\n",
       "      <td>0</td>\n",
       "      <td>460274380</td>\n",
       "      <td>WINNER REGIONAL HEALTHCARE CENTER</td>\n",
       "      <td>6058427100</td>\n",
       "      <td>NaN</td>\n",
       "      <td>NaN</td>\n",
       "      <td>NaN</td>\n",
       "      <td>NaN</td>\n",
       "      <td>NaN</td>\n",
       "    </tr>\n",
       "    <tr>\n",
       "      <td>1</td>\n",
       "      <td>134078241</td>\n",
       "      <td>NaN</td>\n",
       "      <td>4132385372</td>\n",
       "      <td>311 RIVER ROAD</td>\n",
       "      <td>WORTHINGTON</td>\n",
       "      <td>MA</td>\n",
       "      <td>01098</td>\n",
       "      <td>N/A</td>\n",
       "    </tr>\n",
       "    <tr>\n",
       "      <td>2</td>\n",
       "      <td>263803825</td>\n",
       "      <td>NEW YORK STATE SOCIETY OF PLASTIC SURGEONS INC</td>\n",
       "      <td>5185987755</td>\n",
       "      <td>PO BOX 3728</td>\n",
       "      <td>ALBANY</td>\n",
       "      <td>NY</td>\n",
       "      <td>12203</td>\n",
       "      <td>NaN</td>\n",
       "    </tr>\n",
       "    <tr>\n",
       "      <td>3</td>\n",
       "      <td>580805316</td>\n",
       "      <td>BERRIEN COUNTY FARM BUREAU INC</td>\n",
       "      <td>2296867496</td>\n",
       "      <td>PO BOX 535</td>\n",
       "      <td>NASHVILLE</td>\n",
       "      <td>GA</td>\n",
       "      <td>31639</td>\n",
       "      <td>N/A</td>\n",
       "    </tr>\n",
       "    <tr>\n",
       "      <td>4</td>\n",
       "      <td>272136389</td>\n",
       "      <td>Madison County Firefighters Foundation Inc</td>\n",
       "      <td>7656354785</td>\n",
       "      <td>824 West 3rd Street</td>\n",
       "      <td>Anderson</td>\n",
       "      <td>IN</td>\n",
       "      <td>46016</td>\n",
       "      <td>N/A</td>\n",
       "    </tr>\n",
       "  </tbody>\n",
       "</table>\n",
       "</div>"
      ],
      "text/plain": [
       "         ein                                            name       phone  \\\n",
       "0  460274380               WINNER REGIONAL HEALTHCARE CENTER  6058427100   \n",
       "1  134078241                                             NaN  4132385372   \n",
       "2  263803825  NEW YORK STATE SOCIETY OF PLASTIC SURGEONS INC  5185987755   \n",
       "3  580805316                  BERRIEN COUNTY FARM BUREAU INC  2296867496   \n",
       "4  272136389      Madison County Firefighters Foundation Inc  7656354785   \n",
       "\n",
       "                 addr1         city state    zip website  \n",
       "0                  NaN          NaN   NaN    NaN     NaN  \n",
       "1       311 RIVER ROAD  WORTHINGTON    MA  01098     N/A  \n",
       "2          PO BOX 3728       ALBANY    NY  12203     NaN  \n",
       "3           PO BOX 535    NASHVILLE    GA  31639     N/A  \n",
       "4  824 West 3rd Street     Anderson    IN  46016     N/A  "
      ]
     },
     "execution_count": 9,
     "metadata": {},
     "output_type": "execute_result"
    }
   ],
   "source": [
    "s = pd.DataFrame(simple)\n",
    "print(s.shape)\n",
    "s.head()"
   ]
  },
  {
   "cell_type": "code",
   "execution_count": null,
   "metadata": {},
   "outputs": [],
   "source": []
  }
 ],
 "metadata": {
  "kernelspec": {
   "display_name": "Python 3",
   "language": "python",
   "name": "python3"
  },
  "language_info": {
   "codemirror_mode": {
    "name": "ipython",
    "version": 3
   },
   "file_extension": ".py",
   "mimetype": "text/x-python",
   "name": "python",
   "nbconvert_exporter": "python",
   "pygments_lexer": "ipython3",
   "version": "3.7.4"
  }
 },
 "nbformat": 4,
 "nbformat_minor": 2
}
