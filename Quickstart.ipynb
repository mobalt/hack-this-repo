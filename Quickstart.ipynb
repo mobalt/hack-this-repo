{
 "cells": [
  {
   "cell_type": "code",
   "execution_count": 1,
   "metadata": {},
   "outputs": [],
   "source": [
    "import requests           # for calling test API\n",
    "from wget import download # for downloading data files\n",
    "import json\n",
    "from IPython.core.display import display, HTML"
   ]
  },
  {
   "cell_type": "code",
   "execution_count": null,
   "metadata": {},
   "outputs": [],
   "source": []
  },
  {
   "cell_type": "markdown",
   "metadata": {},
   "source": [
    "# Customize this value"
   ]
  },
  {
   "cell_type": "code",
   "execution_count": 2,
   "metadata": {},
   "outputs": [],
   "source": [
    "TEAM_ID = 'SuperAwesomeTeamId'"
   ]
  },
  {
   "cell_type": "markdown",
   "metadata": {},
   "source": [
    "# Helper Functions"
   ]
  },
  {
   "cell_type": "code",
   "execution_count": 3,
   "metadata": {},
   "outputs": [],
   "source": [
    "API_ENDPOINT = \"https://v0g71fyb06.execute-api.us-east-1.amazonaws.com/testSubmission\"\n",
    "\n",
    "\n",
    "# show pretty message boxes\n",
    "# css possible values = success(green), danger(red), info(blue), warning(yellow)\n",
    "def show_box(message, css='warning'):\n",
    "    text = '''\n",
    "    <div class=\"alert alert-block alert-{css}\">\n",
    "        <b>API says:</b>\n",
    "        <pre>{message}</pre>\n",
    "    </div>\n",
    "    '''\n",
    "    display(HTML(text.format(message=message,css=css)))\n",
    "\n",
    "\n",
    "# calls the testing api to check results\n",
    "def canihazmyscore(data):\n",
    "    # json body payload for post request\n",
    "    payload = json.dumps({\n",
    "        'team_id': TEAM_ID,\n",
    "        'data': data\n",
    "    })\n",
    "    \n",
    "    r = requests.post(url = API_ENDPOINT, data = payload) \n",
    "    result = r.json()\n",
    "    \n",
    "    # trim both properties so only message is displayed\n",
    "    if 'body' in result:\n",
    "        msg = result['body'].copy()\n",
    "        msg.pop('team_id', False)\n",
    "        msg.pop('data', False)\n",
    "    else: \n",
    "        # an unhandled error occurred\n",
    "        #  show everything\n",
    "        msg = result\n",
    "        \n",
    "    # convert dict to string\n",
    "    msg = str(msg)\n",
    "    show_box(msg)\n",
    "    \n",
    "    # return full body (useful if you need to confirm data integrity)\n",
    "    return result"
   ]
  },
  {
   "cell_type": "code",
   "execution_count": 4,
   "metadata": {},
   "outputs": [],
   "source": [
    "# Files which might be useful will\n",
    "# be added to this dict.\n",
    "# key = filename\n",
    "# value = url to download\n",
    "DOWNLOAD_LIST = {}"
   ]
  },
  {
   "cell_type": "markdown",
   "metadata": {},
   "source": [
    "# Business Master File (BMF)\n",
    "* published by IRS, publicly available\n",
    "* already comes [separated by state](https://www.irs.gov/charities-non-profits/exempt-organizations-business-master-file-extract-eo-bmf), (we only want Missouri)\n",
    "* **Data dictionary** from [IRS(*.pdf)](https://www.irs.gov/pub/irs-soi/eo_info.pdf)\n",
    "* From the instructions:\n",
    "> The BMF dataset will be the primary data source but teams will need to find corresponding phone numbers and website URLs within the Form 990 data, using the EIN to match records across the two datasets. In this process, teams will reduce the dataset to only the records for which there is a corresponding URL to use for website text analysis. The BMF data also must be filtered down by service categories using the category whitelists provided below. \n"
   ]
  },
  {
   "cell_type": "code",
   "execution_count": 5,
   "metadata": {},
   "outputs": [],
   "source": [
    "DOWNLOAD_LIST['MoBMF.csv'] = 'https://slalom-hackathon.s3.us-east-2.amazonaws.com/MO+BMF+6.10.2019.csv'"
   ]
  },
  {
   "cell_type": "markdown",
   "metadata": {},
   "source": [
    "> The names of the columns you are required to capture from the BMF data are:"
   ]
  },
  {
   "cell_type": "code",
   "execution_count": 6,
   "metadata": {},
   "outputs": [],
   "source": [
    "REQUIRED_BMF_COLUMNS = [\n",
    "    \"EIN\",\n",
    "    \"NAME\",\n",
    "    \"STREET\",\n",
    "    \"CITY\",\n",
    "    \"ZIP\",\n",
    "    \"ACTIVITY\",\n",
    "    \"NTEE_CD\",\n",
    "]"
   ]
  },
  {
   "cell_type": "markdown",
   "metadata": {},
   "source": [
    "#### whitelist filters\n",
    "\n",
    "> There are two types of service classification codes used in the BMF data that describe the types of services provided by an organization: Activity codes and NTEE codes. Some rows of the BMF file include only one type of code, some have both, and some have neither. Furthermore, there can be multiple codes of each type. For activity codes, there can be up to three assigned so you’ll find either three, six, or nine digits in the CSV field. If you wish to learn more about these service classification codes, the category names and codes are listed in the aforementioned PDF about the BMF data, but NTEE categories have descriptions available at a [dedicated website](https://nccs.urban.org/publication/irs-activity-codes). As previously mentioned, organizations that have been assigned categories which are not relevant to Johego users can be filtered out of the dataset. Johego has provided a [whitelist of NTEE codes](https://slalom-hackathon.s3.us-east-2.amazonaws.com/flat_NTEE_whitelist) and a [whitelist of Activity codes](https://slalom-hackathon.s3.us-east-2.amazonaws.com/flat_ActivityCode_whitelist), both in CSV format hosted on S3. The whitelist of NTEE codes uses a shorthand such that the entry “E2” represents inclusion of the NTEE category “E20” as well as all of its sub-categories. If any of the Activity codes or NTEE codes assigned to an organization are found in the respective whitelist, the organization should be included in the final dataset.\n",
    "\n",
    "\n"
   ]
  },
  {
   "cell_type": "code",
   "execution_count": 7,
   "metadata": {},
   "outputs": [],
   "source": [
    "DOWNLOAD_LIST['whitelist-ntee.txt'] = 'https://slalom-hackathon.s3.us-east-2.amazonaws.com/flat_NTEE_whitelist'\n",
    "DOWNLOAD_LIST['whitelist-activity.txt']  = 'https://slalom-hackathon.s3.us-east-2.amazonaws.com/flat_ActivityCode_whitelist'"
   ]
  },
  {
   "cell_type": "markdown",
   "metadata": {},
   "source": [
    "# IRS Form 990"
   ]
  },
  {
   "cell_type": "markdown",
   "metadata": {},
   "source": [
    "> The IRS publishes certain electronic Form 990 filings (in XML format) with an index file (in JSON format) hosted on Amazon S3. Teams will use the [2018 990 filings index](https://s3.amazonaws.com/irs-form-990/index_2018.json) to locate and then parse individual 990 data files. ([Here](https://s3.amazonaws.com/irs-form-990/201713189349307146_public.xml) is an example 990 filing.). Some of the files you will encounter are a different version of form 990, 990EZ and 990PF. Using a bullet list structure to mimic the XML structure of the 990 files, the fields you are required to capture are listed below. The ReturnHeader section remains the same for all form types and the ReturnData section will contain a type-specific XML element which is either IRS990, IRS990EZ, or IRS990PF. The IRS990PF element does not contain information relevant to Johego, so it is not listed below."
   ]
  },
  {
   "cell_type": "code",
   "execution_count": 8,
   "metadata": {},
   "outputs": [],
   "source": [
    "DOWNLOAD_LIST['990-index-2018.json'] = 'https://s3.amazonaws.com/irs-form-990/index_2018.json'\n",
    "DOWNLOAD_LIST['example-990.xml'] = 'https://s3.amazonaws.com/irs-form-990/201713189349307146_public.xml'"
   ]
  },
  {
   "cell_type": "code",
   "execution_count": 9,
   "metadata": {},
   "outputs": [
    {
     "data": {
      "text/plain": [
       "[['Return', 'ReturnHeader', 'Filer', 'EIN'],\n",
       " ['Return', 'ReturnHeader', 'Filer', 'PhoneNum'],\n",
       " ['ReturnData', 'IRS990', 'WebsiteAddressTxt'],\n",
       " ['ReturnData', 'IRS990EZ', 'WebsiteAddressTxt']]"
      ]
     },
     "execution_count": 9,
     "metadata": {},
     "output_type": "execute_result"
    }
   ],
   "source": [
    "REQUIRED_990_PATHS = '''\n",
    "Return ReturnHeader Filer EIN\n",
    "Return ReturnHeader Filer PhoneNum\n",
    "ReturnData IRS990 WebsiteAddressTxt\n",
    "ReturnData IRS990EZ WebsiteAddressTxt\n",
    "'''\n",
    "REQUIRED_990_PATHS = [x.split() for x in REQUIRED_990_PATHS.strip().splitlines()]\n",
    "REQUIRED_990_PATHS"
   ]
  },
  {
   "cell_type": "code",
   "execution_count": null,
   "metadata": {},
   "outputs": [],
   "source": []
  },
  {
   "cell_type": "code",
   "execution_count": null,
   "metadata": {},
   "outputs": [],
   "source": []
  },
  {
   "cell_type": "markdown",
   "metadata": {},
   "source": [
    "# Amazon Comprehend"
   ]
  },
  {
   "cell_type": "markdown",
   "metadata": {},
   "source": [
    "> The IRS data can provide a basic directory of social and medical service providers in Missouri, but it lacks information about their hours of operation and may list only one service category despite the fact that many organizations’ services span multiple categories. Use any of the powerful features offered by Amazon Comprehend to analyze the organizations’ websites (found in Form 990 data) to find their hours of operation and additional service categories. The category names, descriptions, keywords, and NTEE codes can be found in a [JSON file](https://slalom-hackathon.s3.us-east-2.amazonaws.com/categories.json) provided by Johego. Here are some suggestions of how Amazon Comprehend may be used to accomplish that goal:\n",
    "* Hours of operation (for a typical week)\n",
    "    * Use key phrase extraction and/or entity recognition to detect hours of operation listed on the websites.\n",
    "* Services offered\n",
    "    * Use key phrase extraction and/or topic modeling to detect distinct services offered by the organization.\n"
   ]
  },
  {
   "cell_type": "code",
   "execution_count": 10,
   "metadata": {},
   "outputs": [],
   "source": [
    "DOWNLOAD_LIST['categories.json'] = 'https://slalom-hackathon.s3.us-east-2.amazonaws.com/categories.json'"
   ]
  },
  {
   "cell_type": "markdown",
   "metadata": {},
   "source": [
    "# Final Data Structure"
   ]
  },
  {
   "cell_type": "markdown",
   "metadata": {},
   "source": [
    "Submissions are in this JSON schema:"
   ]
  },
  {
   "cell_type": "markdown",
   "metadata": {},
   "source": [
    "* team_id\n",
    "* data (type: object with EINs as keys)\n",
    "* EIN (\"883832...\")\n",
    "    * name\n",
    "    * url\n",
    "    * phone (format: “3145550673”)\n",
    "    * services (type: array of NTEE code strings)\n",
    "    * hours (type: object with days of the week as keys)\n",
    "        * sunday|monday|tuesday|wednesday|thursday|friday|saturday\n",
    "            * opens_at (format: twenty-four hour clock, such as “09:00”)\n",
    "            * closes_at (format: twenty-four hour clock, such as “16:30”)\n",
    "\n",
    "Note: If the organization is closed all day, that should be represented with the values opens_at=“00:00” and closes_at=“00:00”. If the organization is open for twenty-four hours, that should be represented as opens_at=“00:00” and closes_at=“24:00”."
   ]
  },
  {
   "cell_type": "code",
   "execution_count": 11,
   "metadata": {},
   "outputs": [],
   "source": [
    "# Example data to send to api\n",
    "example_data = {\n",
    "    '462123095': {\n",
    "        'name': 'JOHEGO',\n",
    "        'url': 'https://www.johego.org/',\n",
    "        'phone': '3140001234',\n",
    "        'services': ['P20'],\n",
    "        'hours': {\n",
    "            # open 8hrs (9AM-5PM) on Mondays\n",
    "            'monday': {\n",
    "                'opens_at': '09:00',\n",
    "                'closes_at': '17:00'\n",
    "            },\n",
    "            # open 24h on T\n",
    "            'tuesday':   { 'opens_at': '00:00', 'closes_at': '24:00' },\n",
    "            # closed on W-S\n",
    "            'wednesday': { 'opens_at': '00:00', 'closes_at': '00:00' },\n",
    "            'thursday':  { 'opens_at': '00:00', 'closes_at': '00:00' },\n",
    "            'friday':    { 'opens_at': '00:00', 'closes_at': '00:00' },\n",
    "            'saturday':  { 'opens_at': '00:00', 'closes_at': '00:00' },\n",
    "            'sunday':    { 'opens_at': '00:00', 'closes_at': '00:00' },\n",
    "        }\n",
    "\n",
    "    },\n",
    "    '431195240': {\n",
    "        'name': 'INDEPENDENCE CENTER',\n",
    "        # etc...\n",
    "    },\n",
    "}"
   ]
  },
  {
   "cell_type": "markdown",
   "metadata": {},
   "source": [
    "# Testing Throughout the Hackathon\n",
    "Teams can test their submission JSON throughout the competition by sending their JSON in the body of a POST request to this URL using either a cURL command in a terminal or a REST client application such as Postman or Insomnia:\n",
    "\n",
    "https://v0g71fyb06.execute-api.us-east-1.amazonaws.com/testSubmission\n",
    "\n",
    "This testing API will return a JSON object with a “status” property and a “body” property. The “status” property contains the HTTP response code for the API call. The “body” property will be the JSON object that was sent in the POST request with a new property appended, either a “score” or an “error”. If the submission JSON was not properly structured, the “error” property will contain a string error message describing what is incorrect in the JSON structure. If the submission JSON was properly structured, the “score” property will contain a JSON object with a breakdown of the score calculation (values shown are for an example score):\n",
    "* number_of_rows_submitted: 450\n",
    "* number_of_invalid_rows: 125\n",
    "* number_of_valid_rows: 325\n",
    "* points_for_phone: 276\n",
    "* points_for_url: 325\n",
    "* points_for_hours: 65\n",
    "* points_for_services: 937\n",
    "* initial_score: 1603\n",
    "* accuracy_multiplier: 0.21951219512195122\n",
    "* accuracy_adjusted_score: 351.8780487804878\n",
    "* final_score: 351.8780487804878\n"
   ]
  },
  {
   "cell_type": "code",
   "execution_count": 12,
   "metadata": {},
   "outputs": [
    {
     "data": {
      "text/html": [
       "\n",
       "    <div class=\"alert alert-block alert-warning\">\n",
       "        <b>API says:</b>\n",
       "        <pre>{'errorMessage': 'division by zero', 'errorType': 'ZeroDivisionError', 'stackTrace': ['  File \"/var/task/lambda_function.py\", line 11, in lambda_handler\\n    \\'body\\': scoreSubmission(event)\\n', '  File \"/var/task/lambda_function.py\", line 169, in scoreSubmission\\n    accuracy = matched / compared\\n']}</pre>\n",
       "    </div>\n",
       "    "
      ],
      "text/plain": [
       "<IPython.core.display.HTML object>"
      ]
     },
     "metadata": {},
     "output_type": "display_data"
    },
    {
     "data": {
      "text/plain": [
       "{'errorMessage': 'division by zero',\n",
       " 'errorType': 'ZeroDivisionError',\n",
       " 'stackTrace': ['  File \"/var/task/lambda_function.py\", line 11, in lambda_handler\\n    \\'body\\': scoreSubmission(event)\\n',\n",
       "  '  File \"/var/task/lambda_function.py\", line 169, in scoreSubmission\\n    accuracy = matched / compared\\n']}"
      ]
     },
     "execution_count": 12,
     "metadata": {},
     "output_type": "execute_result"
    }
   ],
   "source": [
    "# Let's try out the test API with the fake data above\n",
    "result = canihazmyscore(example_data)\n",
    "result"
   ]
  },
  {
   "cell_type": "code",
   "execution_count": 13,
   "metadata": {},
   "outputs": [],
   "source": [
    "# ... Hmm, guess you shouldn't feed fake data to cats."
   ]
  },
  {
   "cell_type": "code",
   "execution_count": null,
   "metadata": {},
   "outputs": [],
   "source": []
  },
  {
   "cell_type": "code",
   "execution_count": null,
   "metadata": {},
   "outputs": [],
   "source": [
    "# according to the description above, \n",
    "# legit calls should have a score object:\n",
    "#\n",
    "print(result['body']['score']['final_score'])"
   ]
  },
  {
   "cell_type": "code",
   "execution_count": null,
   "metadata": {},
   "outputs": [],
   "source": []
  },
  {
   "cell_type": "markdown",
   "metadata": {},
   "source": [
    "# Before you go!!!"
   ]
  },
  {
   "cell_type": "markdown",
   "metadata": {},
   "source": [
    "#### do something with these variables"
   ]
  },
  {
   "cell_type": "code",
   "execution_count": 14,
   "metadata": {},
   "outputs": [
    {
     "data": {
      "text/plain": [
       "[['Return', 'ReturnHeader', 'Filer', 'EIN'],\n",
       " ['Return', 'ReturnHeader', 'Filer', 'PhoneNum'],\n",
       " ['ReturnData', 'IRS990', 'WebsiteAddressTxt'],\n",
       " ['ReturnData', 'IRS990EZ', 'WebsiteAddressTxt']]"
      ]
     },
     "execution_count": 14,
     "metadata": {},
     "output_type": "execute_result"
    }
   ],
   "source": [
    "REQUIRED_990_PATHS"
   ]
  },
  {
   "cell_type": "code",
   "execution_count": 15,
   "metadata": {},
   "outputs": [
    {
     "data": {
      "text/plain": [
       "['EIN', 'NAME', 'STREET', 'CITY', 'ZIP', 'ACTIVITY', 'NTEE_CD']"
      ]
     },
     "execution_count": 15,
     "metadata": {},
     "output_type": "execute_result"
    }
   ],
   "source": [
    "REQUIRED_BMF_COLUMNS"
   ]
  },
  {
   "cell_type": "markdown",
   "metadata": {},
   "source": [
    "#### Download those data files"
   ]
  },
  {
   "cell_type": "code",
   "execution_count": 16,
   "metadata": {},
   "outputs": [
    {
     "data": {
      "text/plain": [
       "{'MoBMF.csv': 'https://slalom-hackathon.s3.us-east-2.amazonaws.com/MO+BMF+6.10.2019.csv',\n",
       " 'whitelist-ntee.txt': 'https://slalom-hackathon.s3.us-east-2.amazonaws.com/flat_NTEE_whitelist',\n",
       " 'whitelist-activity.txt': 'https://slalom-hackathon.s3.us-east-2.amazonaws.com/flat_ActivityCode_whitelist',\n",
       " '990-index-2018.json': 'https://s3.amazonaws.com/irs-form-990/index_2018.json',\n",
       " 'example-990.xml': 'https://s3.amazonaws.com/irs-form-990/201713189349307146_public.xml',\n",
       " 'categories.json': 'https://slalom-hackathon.s3.us-east-2.amazonaws.com/categories.json'}"
      ]
     },
     "execution_count": 16,
     "metadata": {},
     "output_type": "execute_result"
    }
   ],
   "source": [
    "# let's look at what's in our bag\n",
    "DOWNLOAD_LIST"
   ]
  },
  {
   "cell_type": "code",
   "execution_count": null,
   "metadata": {},
   "outputs": [],
   "source": [
    "# download 'em\n",
    "for filename, url in DOWNLOAD_LIST.items():\n",
    "    download(url, './%s' % filename)"
   ]
  },
  {
   "cell_type": "markdown",
   "metadata": {},
   "source": [
    "# Have fun!"
   ]
  },
  {
   "cell_type": "code",
   "execution_count": null,
   "metadata": {},
   "outputs": [],
   "source": []
  },
  {
   "cell_type": "code",
   "execution_count": null,
   "metadata": {},
   "outputs": [],
   "source": []
  },
  {
   "cell_type": "code",
   "execution_count": null,
   "metadata": {},
   "outputs": [],
   "source": []
  },
  {
   "cell_type": "code",
   "execution_count": null,
   "metadata": {},
   "outputs": [],
   "source": []
  },
  {
   "cell_type": "code",
   "execution_count": null,
   "metadata": {},
   "outputs": [],
   "source": []
  },
  {
   "cell_type": "code",
   "execution_count": null,
   "metadata": {},
   "outputs": [],
   "source": []
  },
  {
   "cell_type": "code",
   "execution_count": null,
   "metadata": {},
   "outputs": [],
   "source": []
  },
  {
   "cell_type": "code",
   "execution_count": null,
   "metadata": {},
   "outputs": [],
   "source": []
  },
  {
   "cell_type": "code",
   "execution_count": null,
   "metadata": {},
   "outputs": [],
   "source": []
  },
  {
   "cell_type": "code",
   "execution_count": null,
   "metadata": {},
   "outputs": [],
   "source": []
  },
  {
   "cell_type": "code",
   "execution_count": null,
   "metadata": {},
   "outputs": [],
   "source": []
  },
  {
   "cell_type": "code",
   "execution_count": null,
   "metadata": {},
   "outputs": [],
   "source": []
  },
  {
   "cell_type": "code",
   "execution_count": null,
   "metadata": {},
   "outputs": [],
   "source": []
  },
  {
   "cell_type": "code",
   "execution_count": null,
   "metadata": {},
   "outputs": [],
   "source": []
  },
  {
   "cell_type": "code",
   "execution_count": null,
   "metadata": {},
   "outputs": [],
   "source": []
  },
  {
   "cell_type": "code",
   "execution_count": null,
   "metadata": {},
   "outputs": [],
   "source": []
  },
  {
   "cell_type": "code",
   "execution_count": null,
   "metadata": {},
   "outputs": [],
   "source": []
  },
  {
   "cell_type": "code",
   "execution_count": null,
   "metadata": {},
   "outputs": [],
   "source": []
  },
  {
   "cell_type": "code",
   "execution_count": null,
   "metadata": {},
   "outputs": [],
   "source": []
  },
  {
   "cell_type": "code",
   "execution_count": null,
   "metadata": {},
   "outputs": [],
   "source": []
  },
  {
   "cell_type": "code",
   "execution_count": null,
   "metadata": {},
   "outputs": [],
   "source": []
  },
  {
   "cell_type": "code",
   "execution_count": null,
   "metadata": {},
   "outputs": [],
   "source": []
  },
  {
   "cell_type": "code",
   "execution_count": null,
   "metadata": {},
   "outputs": [],
   "source": []
  },
  {
   "cell_type": "code",
   "execution_count": null,
   "metadata": {},
   "outputs": [],
   "source": []
  },
  {
   "cell_type": "code",
   "execution_count": null,
   "metadata": {},
   "outputs": [],
   "source": []
  },
  {
   "cell_type": "code",
   "execution_count": null,
   "metadata": {},
   "outputs": [],
   "source": []
  },
  {
   "cell_type": "code",
   "execution_count": null,
   "metadata": {},
   "outputs": [],
   "source": []
  },
  {
   "cell_type": "code",
   "execution_count": null,
   "metadata": {},
   "outputs": [],
   "source": []
  },
  {
   "cell_type": "code",
   "execution_count": null,
   "metadata": {},
   "outputs": [],
   "source": []
  },
  {
   "cell_type": "code",
   "execution_count": null,
   "metadata": {},
   "outputs": [],
   "source": []
  },
  {
   "cell_type": "code",
   "execution_count": null,
   "metadata": {},
   "outputs": [],
   "source": []
  },
  {
   "cell_type": "code",
   "execution_count": null,
   "metadata": {},
   "outputs": [],
   "source": []
  },
  {
   "cell_type": "code",
   "execution_count": null,
   "metadata": {},
   "outputs": [],
   "source": []
  },
  {
   "cell_type": "code",
   "execution_count": null,
   "metadata": {},
   "outputs": [],
   "source": []
  }
 ],
 "metadata": {
  "kernelspec": {
   "display_name": "Python 3",
   "language": "python",
   "name": "python3"
  },
  "language_info": {
   "codemirror_mode": {
    "name": "ipython",
    "version": 3
   },
   "file_extension": ".py",
   "mimetype": "text/x-python",
   "name": "python",
   "nbconvert_exporter": "python",
   "pygments_lexer": "ipython3",
   "version": "3.7.4"
  }
 },
 "nbformat": 4,
 "nbformat_minor": 2
}
